{
  "nbformat": 4,
  "nbformat_minor": 0,
  "metadata": {
    "colab": {
      "name": "Backus-Naur Form.ipynb",
      "provenance": [],
      "collapsed_sections": [],
      "authorship_tag": "ABX9TyOsop9+OWqmaUj6wydENHgf",
      "include_colab_link": true
    },
    "kernelspec": {
      "name": "python3",
      "display_name": "Python 3"
    }
  },
  "cells": [
    {
      "cell_type": "markdown",
      "metadata": {
        "id": "view-in-github",
        "colab_type": "text"
      },
      "source": [
        "<a href=\"https://colab.research.google.com/github/jcoelho93/jupyter-notebooks/blob/master/Backus_Naur_Form.ipynb\" target=\"_parent\"><img src=\"https://colab.research.google.com/assets/colab-badge.svg\" alt=\"Open In Colab\"/></a>"
      ]
    },
    {
      "cell_type": "markdown",
      "metadata": {
        "id": "wPXo0Fvl4Ur1",
        "colab_type": "text"
      },
      "source": [
        "# Backus-Naur Form for Natural Language Processing\n",
        "\n",
        "* Notation technique to define formal grammars\n",
        "* Used in programming languages, NLP, communication protocols, ...\n",
        "\n",
        "\n",
        "## Derivation rules\n",
        "\n",
        "```\n",
        "<symbol> := __expression__\n",
        "```\n",
        "\n",
        "**\\<symbol\\>**  -> nonterminal symbols  \n",
        "**\\_\\_expression\\_\\_** -> one or more symbols  \n",
        " **|** -> choice  \n",
        " **literals** -> \"a\" \"someword\" \"if\" ...\n",
        "```\n",
        "letter := \"a\" | \"b\" | \"..\"\n",
        "char := letter | digit  \n",
        "```\n",
        "**terminal symbol** -> \"hello\"  \n",
        "\n"
      ]
    },
    {
      "cell_type": "markdown",
      "metadata": {
        "id": "vV90ECJl_wen",
        "colab_type": "text"
      },
      "source": [
        "# Examples\n"
      ]
    },
    {
      "cell_type": "code",
      "metadata": {
        "id": "6TYZAUni-DPs",
        "colab_type": "code",
        "colab": {}
      },
      "source": [
        "! git clone https://github.com/somemarsupials/bnfparsing.git\n",
        "! pip install ./bnfparsing\n"
      ],
      "execution_count": 0,
      "outputs": []
    },
    {
      "cell_type": "code",
      "metadata": {
        "id": "3K83txtfWX-n",
        "colab_type": "code",
        "colab": {}
      },
      "source": [
        "import bnfparsing\n",
        "\n",
        "LETTER = \"letter := \\\"\" + '\" | \"'.join(list(string.ascii_lowercase)) + '\"' # letter := \"a\" | \"b\" | \"c\" | ... | \"z\"\n",
        "\n",
        "GRAMMAR = \"\"\"\n",
        "username := user_id \"2\" location\n",
        "location := \"bp\" | \"de\" | \"us\"\n",
        "user_id := string\n",
        "string := letter string | letter\n",
        "\"\"\"\n",
        "\n",
        "GRAMMAR += LETTER\n",
        "\n",
        "class BoschUsernameParser(bnfparsing.ParserBase):\n",
        "  def __init__(self, grammar):\n",
        "    super().__init__(ws_handler=bnfparsing.ignore)\n",
        "    self.grammar(grammar)\n",
        "\n",
        "p = BoschUsernameParser(GRAMMAR)\n",
        "p.parse('coj2bp')"
      ],
      "execution_count": 0,
      "outputs": []
    },
    {
      "cell_type": "code",
      "metadata": {
        "id": "zSgBRTRNTGR9",
        "colab_type": "code",
        "outputId": "c1fdb6c0-7024-4439-cf38-1985ff2957b1",
        "colab": {
          "base_uri": "https://localhost:8080/",
          "height": 104
        }
      },
      "source": [
        "import string\n",
        "import bnfparsing\n",
        "\n",
        "GRAMMAR = \"\"\"\n",
        "word := letters\n",
        "letters := letter letters | letter\n",
        "\"\"\"\n",
        "\n",
        "GRAMMAR += LETTER\n",
        "\n",
        "class WordParser(bnfparsing.ParserBase):\n",
        "  def __init__(self, grammar):\n",
        "    super().__init__(ws_handler=bnfparsing.ignore)\n",
        "    self.grammar(grammar)\n",
        "\n",
        "p = WordParser(GRAMMAR)\n",
        "p.parse('chocolate')"
      ],
      "execution_count": 0,
      "outputs": [
        {
          "output_type": "stream",
          "text": [
            "\n",
            "word := letters\n",
            "letters := letter letters | letter\n",
            "letter := \"a\" | \"b\" | \"c\" | \"d\" | \"e\" | \"f\" | \"g\" | \"h\" | \"i\" | \"j\" | \"k\" | \"l\" | \"m\" | \"n\" | \"o\" | \"p\" | \"q\" | \"r\" | \"s\" | \"t\" | \"u\" | \"v\" | \"w\" | \"x\" | \"y\" | \"z\"\n"
          ],
          "name": "stdout"
        },
        {
          "output_type": "execute_result",
          "data": {
            "text/plain": [
              "Token word (chocolate)"
            ]
          },
          "metadata": {
            "tags": []
          },
          "execution_count": 36
        }
      ]
    },
    {
      "cell_type": "code",
      "metadata": {
        "id": "DiOYBOuY_Ols",
        "colab_type": "code",
        "colab": {
          "base_uri": "https://localhost:8080/",
          "height": 34
        },
        "outputId": "e47dcd08-8fe5-4086-87b7-fc19a35c29ff"
      },
      "source": [
        "import bnfparsing\n",
        "\n",
        "GRAMMAR = \"\"\"\n",
        "valid_if := \"if\" condition \":\"\n",
        "condition := operand operator operand\n",
        "operator := \"==\" | \"<\" | \">\" | \">=\" | \"<=\" | \"!=\"\n",
        "operand := word\n",
        "word := letter word | letter\n",
        "\"\"\"\n",
        "\n",
        "GRAMMAR += LETTER\n",
        "\n",
        "class IfStmtParser(bnfparsing.ParserBase):\n",
        "  def __init__(self, grammar):\n",
        "    super().__init__(ws_handler=bnfparsing.ignore)\n",
        "    self.grammar(grammar)\n",
        "\n",
        "p = IfStmtParser(GRAMMAR)\n",
        "p.parse('if x == xyxyx:')"
      ],
      "execution_count": 44,
      "outputs": [
        {
          "output_type": "execute_result",
          "data": {
            "text/plain": [
              "Token valid_if (ifx==xyxyx:)"
            ]
          },
          "metadata": {
            "tags": []
          },
          "execution_count": 44
        }
      ]
    },
    {
      "cell_type": "markdown",
      "metadata": {
        "id": "4xK2LxtVBkMc",
        "colab_type": "text"
      },
      "source": [
        "# Natural Language Processing\n",
        "\n",
        "Defining the english language grammar with BNF\n",
        "\n",
        "![alt text](https://imgur.com/6SmZV6N.jpg)"
      ]
    },
    {
      "cell_type": "code",
      "metadata": {
        "id": "Gy5g38BTBnRB",
        "colab_type": "code",
        "outputId": "5699eb4a-33d3-4f71-cfa7-87c88a5a7f76",
        "colab": {
          "base_uri": "https://localhost:8080/",
          "height": 104
        }
      },
      "source": [
        "sentences = [\n",
        "             \"I like dogs\",\n",
        "             \"he dog\", # not valid\n",
        "             \"she reads books quickly\",\n",
        "             \"dog reads he\", # not valid\n",
        "             \"she makes pizza for dinner\"\n",
        "]\n",
        "\n",
        "GRAMMAR = \"\"\"\n",
        "sentence := subject verb object prepositional_phrase | subject verb object\n",
        "subject := \"I\" | \"he\" | \"she\" | \"dog\" | \"dinner\"\n",
        "verb := \"like\" | \"reads\" | \"reads\" | \"makes\"\n",
        "object := \"dogs\" | \"books\" | \"dog\" | \"pizza\"\n",
        "prepositional_phrase := preposition subject | preposition\n",
        "preposition := \"for\" | \"in\" | \"quickly\"\n",
        "\"\"\"\n",
        "\n",
        "class EnglishGrammarParser(bnfparsing.ParserBase):\n",
        "  def __init__(self, grammar):\n",
        "    super().__init__(ws_handler=bnfparsing.ignore)\n",
        "    self.grammar(grammar)\n",
        "\n",
        "\n",
        "parser = EnglishGrammarParser(GRAMMAR)\n",
        "for sentence in sentences:\n",
        "  try:\n",
        "    print(parser.parse(sentence))\n",
        "  except:\n",
        "    print(f\"'{sentence}'is not valid\")"
      ],
      "execution_count": 0,
      "outputs": [
        {
          "output_type": "stream",
          "text": [
            "Token sentence (Ilikedogs)\n",
            "'he dog'is not valid\n",
            "Token sentence (shereadsbooksquickly)\n",
            "'dog reads he'is not valid\n",
            "Token sentence (shemakesfoodfordinner)\n"
          ],
          "name": "stdout"
        }
      ]
    },
    {
      "cell_type": "markdown",
      "metadata": {
        "id": "8F9QeA3xJwJo",
        "colab_type": "text"
      },
      "source": [
        "# Resources\n",
        "\n",
        "NLP - http://www.bowdoin.edu/~allen/nlp/nlp1.html\n",
        "\n",
        "BNF - https://en.wikipedia.org/wiki/Backus%E2%80%93Naur_form\n",
        "\n",
        "Full BNF for Java language - https://cs.au.dk/~amoeller/RegAut/JavaBNF.html"
      ]
    }
  ]
}