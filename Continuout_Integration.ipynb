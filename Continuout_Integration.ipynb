{
  "nbformat": 4,
  "nbformat_minor": 0,
  "metadata": {
    "colab": {
      "name": "Continuout Integration",
      "provenance": [],
      "collapsed_sections": [],
      "authorship_tag": "ABX9TyOGhld+NG3cvsNEYkHOWAwk",
      "include_colab_link": true
    },
    "kernelspec": {
      "name": "python3",
      "display_name": "Python 3"
    }
  },
  "cells": [
    {
      "cell_type": "markdown",
      "metadata": {
        "id": "view-in-github",
        "colab_type": "text"
      },
      "source": [
        "<a href=\"https://colab.research.google.com/github/jcoelho93/jupyter-notebooks/blob/master/Continuout_Integration.ipynb\" target=\"_parent\"><img src=\"https://colab.research.google.com/assets/colab-badge.svg\" alt=\"Open In Colab\"/></a>"
      ]
    },
    {
      "cell_type": "markdown",
      "metadata": {
        "id": "e6QHCRSM7fhO",
        "colab_type": "text"
      },
      "source": [
        "# Continuous Integration\n",
        "\n",
        "## The problem\n",
        "\n",
        "![alt text](https://miro.medium.com/max/1240/1*FpEDNFF2CDqpmdkSHXFpmA.jpeg)\n",
        "\n",
        "* CVS\n",
        "* SVN\n",
        "* No source control at all\n",
        "\n",
        "\n",
        "## Traditional development\n",
        "\n",
        "![alt text](https://wpblog.semaphoreci.com/wp-content/uploads/tutorial-images/32/integration-traditional.png)\n",
        "\n",
        "* huge teams\n",
        "* time between integrations (merges)\n",
        "\n",
        "\n",
        "## The solution \n",
        "\n",
        "### Integrate continuously\n",
        "\n",
        "![continuous integration](https://wpblog.semaphoreci.com/wp-content/uploads/tutorial-images/32/integration-continuous.png)\n",
        "\n",
        "\n",
        "\n",
        "\n"
      ]
    },
    {
      "cell_type": "markdown",
      "metadata": {
        "id": "M3P7mXaWDEIb",
        "colab_type": "text"
      },
      "source": [
        "## Devops role\n",
        "\n",
        "![manually](https://blog.codecentric.de/files/2018/12/molecule-ansible-no2-1-meme.jpg)\n",
        "\n",
        "### Traditional Integration\n",
        "\n",
        "1. Build source\n",
        "2. Run unit tests\n",
        "3. Run integration tests\n",
        "4. Run system tests\n",
        "5. (deployment)\n",
        "\n",
        "\n",
        "### Continuous Integration\n",
        "\n",
        "![continuous-everything](https://image.slidesharecdn.com/cipresentation-180114185952/95/continuous-integrationdeployment-with-gitlab-ci-8-638.jpg)\n"
      ]
    },
    {
      "cell_type": "markdown",
      "metadata": {
        "id": "joQQw1MZC2Wb",
        "colab_type": "text"
      },
      "source": [
        "# Developers role\n",
        "\n",
        "![DPOV](https://www.researchgate.net/profile/Mojtaba_Shahin/publication/327260476/figure/fig1/AS:664448071118848@1535428173173/The-relationship-between-continuous-integration-delivery-and-deployment.png)\n",
        "\n",
        "\n",
        "## Why is continuous integration important?\n",
        "\n",
        "1. higher code quality\n",
        "2. less time fixing bugs\n",
        "3. trust your code\n",
        "\n",
        "\n",
        "## Developer responsibilities\n",
        "\n",
        "1. Check the CI status frequently\n",
        "2. Don't merge broken code\n",
        "3. Fix broken builds immediately\n",
        "4. Avoid breaking code\n",
        "\n",
        "\n",
        "![I know it](https://image.slidesharecdn.com/continuousintegration-en-150821201730-lva1-app6891/95/continuous-integration-for-beginners-14-638.jpg?cb=1440190018)"
      ]
    },
    {
      "cell_type": "markdown",
      "metadata": {
        "id": "uFialQE7CgE1",
        "colab_type": "text"
      },
      "source": [
        "# Resources\n",
        "\n",
        "https://technologyconversations.com/2017/03/06/the-ten-commandments-of-continuous-delivery/"
      ]
    }
  ]
}